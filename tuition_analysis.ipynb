{
 "cells": [
  {
   "cell_type": "code",
   "execution_count": 3,
   "id": "5cb73b49",
   "metadata": {},
   "outputs": [],
   "source": [
    "import pandas as pd\n",
    "import numpy as np\n",
    "import scipy.stats as stats\n",
    "import glob"
   ]
  },
  {
   "cell_type": "code",
   "execution_count": 11,
   "id": "a0691e50",
   "metadata": {},
   "outputs": [],
   "source": [
    "path = './data/'\n",
    "documents = ['diversity_school', 'salary_potential', 'tuition_income',\n",
    "'historical_tuition', 'tuition_cost']\n",
    "datasets = {}\n",
    "\n",
    "for doc in documents:\n",
    "    filename = path + doc + '.csv'\n",
    "    df = pd.read_csv(filename, sep=',', header=0)\n",
    "    datasets[doc] = df"
   ]
  },
  {
   "cell_type": "code",
   "execution_count": 17,
   "id": "a78cfc70",
   "metadata": {},
   "outputs": [
    {
     "name": "stdout",
     "output_type": "stream",
     "text": [
      "diversity_school\n",
      "                            name  total_enrollment    state  \\\n",
      "0  University of Phoenix-Arizona            195059  Arizona   \n",
      "1  University of Phoenix-Arizona            195059  Arizona   \n",
      "2  University of Phoenix-Arizona            195059  Arizona   \n",
      "\n",
      "                          category  enrollment  \n",
      "0                            Women      134722  \n",
      "1  American Indian / Alaska Native         876  \n",
      "2                            Asian        1959  \n",
      "\n",
      "\n",
      "\n",
      "salary_potential\n",
      "   rank                                 name state_name  early_career_pay  \\\n",
      "0     1                    Auburn University    Alabama             54400   \n",
      "1     2  University of Alabama in Huntsville    Alabama             57500   \n",
      "2     3            The University of Alabama    Alabama             52300   \n",
      "\n",
      "   mid_career_pay  make_world_better_percent  stem_percent  \n",
      "0          104500                       51.0            31  \n",
      "1          103900                       59.0            45  \n",
      "2           97400                       50.0            15  \n",
      "\n",
      "\n",
      "\n",
      "tuition_income\n",
      "                                name state  total_price  year     campus  \\\n",
      "0  Piedmont International University    NC        20174  2016  On Campus   \n",
      "1  Piedmont International University    NC        20174  2016  On Campus   \n",
      "2  Piedmont International University    NC        20174  2016  On Campus   \n",
      "\n",
      "   net_cost        income_lvl  \n",
      "0   11475.0       0 to 30,000  \n",
      "1   11451.0  30,001 to 48,000  \n",
      "2   16229.0  48_001 to 75,000  \n",
      "\n",
      "\n",
      "\n",
      "historical_tuition\n",
      "               type     year     tuition_type  tuition_cost\n",
      "0  All Institutions  1985-86     All Constant         10893\n",
      "1  All Institutions  1985-86  4 Year Constant         12274\n",
      "2  All Institutions  1985-86  2 Year Constant          7508\n",
      "\n",
      "\n",
      "\n",
      "tuition_cost\n",
      "                                   name    state state_code     type  \\\n",
      "0                Aaniiih Nakoda College  Montana         MT   Public   \n",
      "1          Abilene Christian University    Texas         TX  Private   \n",
      "2  Abraham Baldwin Agricultural College  Georgia         GA   Public   \n",
      "\n",
      "  degree_length  room_and_board  in_state_tuition  in_state_total  \\\n",
      "0        2 Year             NaN              2380            2380   \n",
      "1        4 Year         10350.0             34850           45200   \n",
      "2        2 Year          8474.0              4128           12602   \n",
      "\n",
      "   out_of_state_tuition  out_of_state_total  \n",
      "0                  2380                2380  \n",
      "1                 34850               45200  \n",
      "2                 12550               21024  \n",
      "\n",
      "\n",
      "\n"
     ]
    }
   ],
   "source": [
    "for frame in datasets:\n",
    "    print(frame)\n",
    "    print(datasets[frame].head(3))\n",
    "    print('\\n\\n')"
   ]
  }
 ],
 "metadata": {
  "kernelspec": {
   "display_name": "Python 3",
   "language": "python",
   "name": "python3"
  },
  "language_info": {
   "codemirror_mode": {
    "name": "ipython",
    "version": 3
   },
   "file_extension": ".py",
   "mimetype": "text/x-python",
   "name": "python",
   "nbconvert_exporter": "python",
   "pygments_lexer": "ipython3",
   "version": "3.7.10"
  }
 },
 "nbformat": 4,
 "nbformat_minor": 5
}
