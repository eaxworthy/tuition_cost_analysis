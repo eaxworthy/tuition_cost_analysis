{
 "cells": [
  {
   "cell_type": "code",
   "execution_count": 1,
   "source": [
    "import pandas as pd\r\n",
    "import numpy as np\r\n",
    "import scipy.stats as stats\r\n",
    "import matplotlib.pyplot as plt"
   ],
   "outputs": [],
   "metadata": {}
  },
  {
   "cell_type": "markdown",
   "source": [
    "## Loading Data"
   ],
   "metadata": {}
  },
  {
   "cell_type": "code",
   "execution_count": 2,
   "source": [
    "#import all csvs I'll use from the data folder into dataframes.\r\n",
    "#each dataframe is accessed via datasets[<name>], with names \r\n",
    "#being the same as those in the list documents\r\n",
    "path = './data/'\r\n",
    "documents = ['diversity_school', 'salary_potential', 'tuition_income',\r\n",
    "'historical_tuition', 'tuition_cost', 'table', 'cpi']\r\n",
    "datasets = {}\r\n",
    "\r\n",
    "for doc in documents:\r\n",
    "    filename = path + doc + '.csv'\r\n",
    "    df = pd.read_csv(filename, sep=',', header=0)\r\n",
    "    datasets[doc] = df"
   ],
   "outputs": [],
   "metadata": {}
  },
  {
   "cell_type": "code",
   "execution_count": 47,
   "source": [
    "#example of how to access a dataframe\r\n",
    "datasets['cpi'].head(3)"
   ],
   "outputs": [
    {
     "output_type": "execute_result",
     "data": {
      "text/html": [
       "<div>\n",
       "<style scoped>\n",
       "    .dataframe tbody tr th:only-of-type {\n",
       "        vertical-align: middle;\n",
       "    }\n",
       "\n",
       "    .dataframe tbody tr th {\n",
       "        vertical-align: top;\n",
       "    }\n",
       "\n",
       "    .dataframe thead th {\n",
       "        text-align: right;\n",
       "    }\n",
       "</style>\n",
       "<table border=\"1\" class=\"dataframe\">\n",
       "  <thead>\n",
       "    <tr style=\"text-align: right;\">\n",
       "      <th></th>\n",
       "      <th>Year</th>\n",
       "      <th>Jan</th>\n",
       "      <th>Feb</th>\n",
       "      <th>Mar</th>\n",
       "      <th>Apr</th>\n",
       "      <th>May</th>\n",
       "      <th>Jun</th>\n",
       "      <th>Jul</th>\n",
       "      <th>Aug</th>\n",
       "      <th>Sep</th>\n",
       "      <th>Oct</th>\n",
       "      <th>Nov</th>\n",
       "      <th>Dec</th>\n",
       "      <th>Annual</th>\n",
       "      <th>HALF1</th>\n",
       "      <th>HALF2</th>\n",
       "    </tr>\n",
       "  </thead>\n",
       "  <tbody>\n",
       "    <tr>\n",
       "      <th>0</th>\n",
       "      <td>1985</td>\n",
       "      <td>105.5</td>\n",
       "      <td>106.0</td>\n",
       "      <td>106.4</td>\n",
       "      <td>106.9</td>\n",
       "      <td>107.3</td>\n",
       "      <td>107.6</td>\n",
       "      <td>107.8</td>\n",
       "      <td>108.0</td>\n",
       "      <td>108.3</td>\n",
       "      <td>108.7</td>\n",
       "      <td>109.0</td>\n",
       "      <td>109.3</td>\n",
       "      <td>107.6</td>\n",
       "      <td>106.6</td>\n",
       "      <td>108.5</td>\n",
       "    </tr>\n",
       "    <tr>\n",
       "      <th>1</th>\n",
       "      <td>1986</td>\n",
       "      <td>109.6</td>\n",
       "      <td>109.3</td>\n",
       "      <td>108.8</td>\n",
       "      <td>108.6</td>\n",
       "      <td>108.9</td>\n",
       "      <td>109.5</td>\n",
       "      <td>109.5</td>\n",
       "      <td>109.7</td>\n",
       "      <td>110.2</td>\n",
       "      <td>110.3</td>\n",
       "      <td>110.4</td>\n",
       "      <td>110.5</td>\n",
       "      <td>109.6</td>\n",
       "      <td>109.1</td>\n",
       "      <td>110.1</td>\n",
       "    </tr>\n",
       "    <tr>\n",
       "      <th>2</th>\n",
       "      <td>1987</td>\n",
       "      <td>111.2</td>\n",
       "      <td>111.6</td>\n",
       "      <td>112.1</td>\n",
       "      <td>112.7</td>\n",
       "      <td>113.1</td>\n",
       "      <td>113.5</td>\n",
       "      <td>113.8</td>\n",
       "      <td>114.4</td>\n",
       "      <td>115.0</td>\n",
       "      <td>115.3</td>\n",
       "      <td>115.4</td>\n",
       "      <td>115.4</td>\n",
       "      <td>113.6</td>\n",
       "      <td>112.4</td>\n",
       "      <td>114.9</td>\n",
       "    </tr>\n",
       "  </tbody>\n",
       "</table>\n",
       "</div>"
      ],
      "text/plain": [
       "   Year    Jan    Feb    Mar    Apr    May    Jun    Jul    Aug    Sep    Oct  \\\n",
       "0  1985  105.5  106.0  106.4  106.9  107.3  107.6  107.8  108.0  108.3  108.7   \n",
       "1  1986  109.6  109.3  108.8  108.6  108.9  109.5  109.5  109.7  110.2  110.3   \n",
       "2  1987  111.2  111.6  112.1  112.7  113.1  113.5  113.8  114.4  115.0  115.3   \n",
       "\n",
       "     Nov    Dec  Annual  HALF1  HALF2  \n",
       "0  109.0  109.3   107.6  106.6  108.5  \n",
       "1  110.4  110.5   109.6  109.1  110.1  \n",
       "2  115.4  115.4   113.6  112.4  114.9  "
      ]
     },
     "metadata": {},
     "execution_count": 47
    }
   ],
   "metadata": {}
  },
  {
   "cell_type": "markdown",
   "source": [
    "## Data Cleaning"
   ],
   "metadata": {}
  },
  {
   "cell_type": "code",
   "execution_count": 48,
   "source": [
    "#the first year '1985-19862 is odd due to a footnote character from the webpage\r\n",
    "datasets['table']['year'].unique()"
   ],
   "outputs": [
    {
     "output_type": "execute_result",
     "data": {
      "text/plain": [
       "array(['1985–862', '1995–96', '2000–01', '2001–02', '2002–03', '2003–04',\n",
       "       '2004–05', '2005–06', '2006–07', '2007–08', '2008–09', '2009–10',\n",
       "       '2010–11', '2011–12', '2012–13', '2013–14', '2014–15', '2015–16',\n",
       "       '2016–17', '2017–18', '2018–19'], dtype=object)"
      ]
     },
     "metadata": {},
     "execution_count": 48
    }
   ],
   "metadata": {}
  },
  {
   "cell_type": "code",
   "execution_count": 49,
   "source": [
    "#the odd value is cleaned, and the character '–' is replaced with '-' so that\r\n",
    "#the year columns between historical_tuition and table match\r\n",
    "datasets['table'].loc[datasets['table']['year'] == '1985–862', 'year'] = '1985-86'\r\n",
    "datasets['table']['year'] = datasets['table']['year'].str.replace('–','-')\r\n",
    "datasets['table'].head(1)"
   ],
   "outputs": [
    {
     "output_type": "execute_result",
     "data": {
      "text/html": [
       "<div>\n",
       "<style scoped>\n",
       "    .dataframe tbody tr th:only-of-type {\n",
       "        vertical-align: middle;\n",
       "    }\n",
       "\n",
       "    .dataframe tbody tr th {\n",
       "        vertical-align: top;\n",
       "    }\n",
       "\n",
       "    .dataframe thead th {\n",
       "        text-align: right;\n",
       "    }\n",
       "</style>\n",
       "<table border=\"1\" class=\"dataframe\">\n",
       "  <thead>\n",
       "    <tr style=\"text-align: right;\">\n",
       "      <th></th>\n",
       "      <th>type</th>\n",
       "      <th>year</th>\n",
       "      <th>Constant_All</th>\n",
       "      <th>Constant_4-Year</th>\n",
       "      <th>Constant_2-Year</th>\n",
       "      <th>Contemporary_All</th>\n",
       "      <th>Contemporary_4-Year</th>\n",
       "      <th>Contemporary_2-Year</th>\n",
       "    </tr>\n",
       "  </thead>\n",
       "  <tbody>\n",
       "    <tr>\n",
       "      <th>0</th>\n",
       "      <td>All Institutions</td>\n",
       "      <td>1985-86</td>\n",
       "      <td>11369</td>\n",
       "      <td>12811</td>\n",
       "      <td>7836</td>\n",
       "      <td>4885</td>\n",
       "      <td>5504</td>\n",
       "      <td>3367</td>\n",
       "    </tr>\n",
       "  </tbody>\n",
       "</table>\n",
       "</div>"
      ],
      "text/plain": [
       "               type     year  Constant_All  Constant_4-Year  Constant_2-Year  \\\n",
       "0  All Institutions  1985-86         11369            12811             7836   \n",
       "\n",
       "   Contemporary_All  Contemporary_4-Year  Contemporary_2-Year  \n",
       "0              4885                 5504                 3367  "
      ]
     },
     "metadata": {},
     "execution_count": 49
    }
   ],
   "metadata": {}
  },
  {
   "cell_type": "code",
   "execution_count": 50,
   "source": [
    "#table is in a format where I'm having trouble directly grabbing the tuition values\r\n",
    "#I want, so instead I extract columns into seperate dataframes, and recombine them\r\n",
    "#so that the format better matches historical_tuition.\r\n",
    "\r\n",
    "const_all = datasets['table'][['type', 'year', 'Constant_All']]\r\n",
    "const_all = const_all.rename(columns = {'Constant_All': 'tuition_2'})\r\n",
    "const_all['tuition_type'] = 'All Constant'\r\n",
    "\r\n",
    "const_4 = datasets['table'][['type', 'year', 'Constant_4-Year']]\r\n",
    "const_4 = const_4.rename(columns = {'Constant_4-Year': 'tuition_2'})\r\n",
    "const_4['tuition_type'] = '4 Year Constant'\r\n",
    "\r\n",
    "const_2 = datasets['table'][['type', 'year', 'Constant_2-Year']]\r\n",
    "const_2 = const_2.rename(columns = {'Constant_2-Year': 'tuition_2'})\r\n",
    "const_2['tuition_type'] = '2 Year Constant'\r\n",
    "\r\n",
    "curr_all = datasets['table'][['type', 'year', 'Contemporary_All']]\r\n",
    "curr_all = curr_all.rename(columns = {'Contemporary_All': 'tuition_2'})\r\n",
    "curr_all['tuition_type'] = 'All Current'\r\n",
    "\r\n",
    "curr_4 = datasets['table'][['type', 'year', 'Contemporary_4-Year']]\r\n",
    "curr_4 = curr_4.rename(columns = {'Contemporary_4-Year': 'tuition_2'})\r\n",
    "curr_4['tuition_type'] = '4 Year Current'\r\n",
    "\r\n",
    "curr_2 = datasets['table'][['type', 'year', 'Contemporary_2-Year']]\r\n",
    "curr_2 = curr_2.rename(columns = {'Contemporary_2-Year': 'tuition_2'})\r\n",
    "curr_2['tuition_type'] = '2 Year Current'\r\n",
    "\r\n",
    "#The condiv_df could be done in one step, but I want to check the shape\r\n",
    "#to make sure nothing's dissappearing\r\n",
    "const = pd.concat([const_all, const_2,const_4], ignore_index=True)\r\n",
    "curr = pd.concat([curr_all, curr_2, curr_4], ignore_index=True)\r\n",
    "print(const.shape)\r\n",
    "print(curr.shape)\r\n",
    "\r\n",
    "all_table_rows = pd.concat([const, curr], ignore_index=True)\r\n",
    "print(all_table_rows.shape)"
   ],
   "outputs": [
    {
     "output_type": "stream",
     "name": "stdout",
     "text": [
      "(186, 4)\n",
      "(186, 4)\n",
      "(372, 4)\n"
     ]
    }
   ],
   "metadata": {}
  },
  {
   "cell_type": "code",
   "execution_count": 51,
   "source": [
    "curr_2"
   ],
   "outputs": [
    {
     "output_type": "execute_result",
     "data": {
      "text/html": [
       "<div>\n",
       "<style scoped>\n",
       "    .dataframe tbody tr th:only-of-type {\n",
       "        vertical-align: middle;\n",
       "    }\n",
       "\n",
       "    .dataframe tbody tr th {\n",
       "        vertical-align: top;\n",
       "    }\n",
       "\n",
       "    .dataframe thead th {\n",
       "        text-align: right;\n",
       "    }\n",
       "</style>\n",
       "<table border=\"1\" class=\"dataframe\">\n",
       "  <thead>\n",
       "    <tr style=\"text-align: right;\">\n",
       "      <th></th>\n",
       "      <th>type</th>\n",
       "      <th>year</th>\n",
       "      <th>tuition_2</th>\n",
       "      <th>tuition_type</th>\n",
       "    </tr>\n",
       "  </thead>\n",
       "  <tbody>\n",
       "    <tr>\n",
       "      <th>0</th>\n",
       "      <td>All Institutions</td>\n",
       "      <td>1985-86</td>\n",
       "      <td>3367</td>\n",
       "      <td>2 Year Current</td>\n",
       "    </tr>\n",
       "    <tr>\n",
       "      <th>1</th>\n",
       "      <td>All Institutions</td>\n",
       "      <td>1995-96</td>\n",
       "      <td>4725</td>\n",
       "      <td>2 Year Current</td>\n",
       "    </tr>\n",
       "    <tr>\n",
       "      <th>2</th>\n",
       "      <td>All Institutions</td>\n",
       "      <td>2000-01</td>\n",
       "      <td>5466</td>\n",
       "      <td>2 Year Current</td>\n",
       "    </tr>\n",
       "    <tr>\n",
       "      <th>3</th>\n",
       "      <td>All Institutions</td>\n",
       "      <td>2001-02</td>\n",
       "      <td>5718</td>\n",
       "      <td>2 Year Current</td>\n",
       "    </tr>\n",
       "    <tr>\n",
       "      <th>4</th>\n",
       "      <td>All Institutions</td>\n",
       "      <td>2002-03</td>\n",
       "      <td>6252</td>\n",
       "      <td>2 Year Current</td>\n",
       "    </tr>\n",
       "    <tr>\n",
       "      <th>...</th>\n",
       "      <td>...</td>\n",
       "      <td>...</td>\n",
       "      <td>...</td>\n",
       "      <td>...</td>\n",
       "    </tr>\n",
       "    <tr>\n",
       "      <th>57</th>\n",
       "      <td>Private</td>\n",
       "      <td>2014-15</td>\n",
       "      <td>24327</td>\n",
       "      <td>2 Year Current</td>\n",
       "    </tr>\n",
       "    <tr>\n",
       "      <th>58</th>\n",
       "      <td>Private</td>\n",
       "      <td>2015-16</td>\n",
       "      <td>24375</td>\n",
       "      <td>2 Year Current</td>\n",
       "    </tr>\n",
       "    <tr>\n",
       "      <th>59</th>\n",
       "      <td>Private</td>\n",
       "      <td>2016-17</td>\n",
       "      <td>24888</td>\n",
       "      <td>2 Year Current</td>\n",
       "    </tr>\n",
       "    <tr>\n",
       "      <th>60</th>\n",
       "      <td>Private</td>\n",
       "      <td>2017-18</td>\n",
       "      <td>25596</td>\n",
       "      <td>2 Year Current</td>\n",
       "    </tr>\n",
       "    <tr>\n",
       "      <th>61</th>\n",
       "      <td>Private</td>\n",
       "      <td>2018-19</td>\n",
       "      <td>28627</td>\n",
       "      <td>2 Year Current</td>\n",
       "    </tr>\n",
       "  </tbody>\n",
       "</table>\n",
       "<p>62 rows × 4 columns</p>\n",
       "</div>"
      ],
      "text/plain": [
       "                type     year  tuition_2    tuition_type\n",
       "0   All Institutions  1985-86       3367  2 Year Current\n",
       "1   All Institutions  1995-96       4725  2 Year Current\n",
       "2   All Institutions  2000-01       5466  2 Year Current\n",
       "3   All Institutions  2001-02       5718  2 Year Current\n",
       "4   All Institutions  2002-03       6252  2 Year Current\n",
       "..               ...      ...        ...             ...\n",
       "57           Private  2014-15      24327  2 Year Current\n",
       "58           Private  2015-16      24375  2 Year Current\n",
       "59           Private  2016-17      24888  2 Year Current\n",
       "60           Private  2017-18      25596  2 Year Current\n",
       "61           Private  2018-19      28627  2 Year Current\n",
       "\n",
       "[62 rows x 4 columns]"
      ]
     },
     "metadata": {},
     "execution_count": 51
    }
   ],
   "metadata": {}
  },
  {
   "cell_type": "code",
   "execution_count": 52,
   "source": [
    "#merge dataframes and look for NAs\r\n",
    "hist_tuition = pd.merge(datasets['historical_tuition'], all_table_rows, how='left', on=['type','year','tuition_type'])\r\n",
    "hist_tuition.isnull().sum().sum()"
   ],
   "outputs": [
    {
     "output_type": "execute_result",
     "data": {
      "text/plain": [
       "0"
      ]
     },
     "metadata": {},
     "execution_count": 52
    }
   ],
   "metadata": {}
  },
  {
   "cell_type": "code",
   "execution_count": null,
   "source": [],
   "outputs": [],
   "metadata": {}
  },
  {
   "cell_type": "code",
   "execution_count": 53,
   "source": [
    "hist_tuition.head()"
   ],
   "outputs": [
    {
     "output_type": "execute_result",
     "data": {
      "text/html": [
       "<div>\n",
       "<style scoped>\n",
       "    .dataframe tbody tr th:only-of-type {\n",
       "        vertical-align: middle;\n",
       "    }\n",
       "\n",
       "    .dataframe tbody tr th {\n",
       "        vertical-align: top;\n",
       "    }\n",
       "\n",
       "    .dataframe thead th {\n",
       "        text-align: right;\n",
       "    }\n",
       "</style>\n",
       "<table border=\"1\" class=\"dataframe\">\n",
       "  <thead>\n",
       "    <tr style=\"text-align: right;\">\n",
       "      <th></th>\n",
       "      <th>type</th>\n",
       "      <th>year</th>\n",
       "      <th>tuition_type</th>\n",
       "      <th>tuition_cost</th>\n",
       "      <th>tuition_2</th>\n",
       "    </tr>\n",
       "  </thead>\n",
       "  <tbody>\n",
       "    <tr>\n",
       "      <th>0</th>\n",
       "      <td>All Institutions</td>\n",
       "      <td>1985-86</td>\n",
       "      <td>All Constant</td>\n",
       "      <td>10893</td>\n",
       "      <td>11369</td>\n",
       "    </tr>\n",
       "    <tr>\n",
       "      <th>1</th>\n",
       "      <td>All Institutions</td>\n",
       "      <td>1985-86</td>\n",
       "      <td>4 Year Constant</td>\n",
       "      <td>12274</td>\n",
       "      <td>12811</td>\n",
       "    </tr>\n",
       "    <tr>\n",
       "      <th>2</th>\n",
       "      <td>All Institutions</td>\n",
       "      <td>1985-86</td>\n",
       "      <td>2 Year Constant</td>\n",
       "      <td>7508</td>\n",
       "      <td>7836</td>\n",
       "    </tr>\n",
       "    <tr>\n",
       "      <th>3</th>\n",
       "      <td>All Institutions</td>\n",
       "      <td>1985-86</td>\n",
       "      <td>All Current</td>\n",
       "      <td>4885</td>\n",
       "      <td>4885</td>\n",
       "    </tr>\n",
       "    <tr>\n",
       "      <th>4</th>\n",
       "      <td>All Institutions</td>\n",
       "      <td>1985-86</td>\n",
       "      <td>4 Year Current</td>\n",
       "      <td>5504</td>\n",
       "      <td>5504</td>\n",
       "    </tr>\n",
       "  </tbody>\n",
       "</table>\n",
       "</div>"
      ],
      "text/plain": [
       "               type     year     tuition_type  tuition_cost  tuition_2\n",
       "0  All Institutions  1985-86     All Constant         10893      11369\n",
       "1  All Institutions  1985-86  4 Year Constant         12274      12811\n",
       "2  All Institutions  1985-86  2 Year Constant          7508       7836\n",
       "3  All Institutions  1985-86      All Current          4885       4885\n",
       "4  All Institutions  1985-86   4 Year Current          5504       5504"
      ]
     },
     "metadata": {},
     "execution_count": 53
    }
   ],
   "metadata": {}
  },
  {
   "cell_type": "code",
   "execution_count": 54,
   "source": [
    "#I make a third column with the average of the two tuition values\r\n",
    "hist_tuition['avg_tuition'] = ((hist_tuition['tuition_cost'] + hist_tuition['tuition_2'])/2).astype(int)\r\n",
    "hist_tuition.head(3)"
   ],
   "outputs": [
    {
     "output_type": "execute_result",
     "data": {
      "text/html": [
       "<div>\n",
       "<style scoped>\n",
       "    .dataframe tbody tr th:only-of-type {\n",
       "        vertical-align: middle;\n",
       "    }\n",
       "\n",
       "    .dataframe tbody tr th {\n",
       "        vertical-align: top;\n",
       "    }\n",
       "\n",
       "    .dataframe thead th {\n",
       "        text-align: right;\n",
       "    }\n",
       "</style>\n",
       "<table border=\"1\" class=\"dataframe\">\n",
       "  <thead>\n",
       "    <tr style=\"text-align: right;\">\n",
       "      <th></th>\n",
       "      <th>type</th>\n",
       "      <th>year</th>\n",
       "      <th>tuition_type</th>\n",
       "      <th>tuition_cost</th>\n",
       "      <th>tuition_2</th>\n",
       "      <th>avg_tuition</th>\n",
       "    </tr>\n",
       "  </thead>\n",
       "  <tbody>\n",
       "    <tr>\n",
       "      <th>0</th>\n",
       "      <td>All Institutions</td>\n",
       "      <td>1985-86</td>\n",
       "      <td>All Constant</td>\n",
       "      <td>10893</td>\n",
       "      <td>11369</td>\n",
       "      <td>11131</td>\n",
       "    </tr>\n",
       "    <tr>\n",
       "      <th>1</th>\n",
       "      <td>All Institutions</td>\n",
       "      <td>1985-86</td>\n",
       "      <td>4 Year Constant</td>\n",
       "      <td>12274</td>\n",
       "      <td>12811</td>\n",
       "      <td>12542</td>\n",
       "    </tr>\n",
       "    <tr>\n",
       "      <th>2</th>\n",
       "      <td>All Institutions</td>\n",
       "      <td>1985-86</td>\n",
       "      <td>2 Year Constant</td>\n",
       "      <td>7508</td>\n",
       "      <td>7836</td>\n",
       "      <td>7672</td>\n",
       "    </tr>\n",
       "  </tbody>\n",
       "</table>\n",
       "</div>"
      ],
      "text/plain": [
       "               type     year     tuition_type  tuition_cost  tuition_2  \\\n",
       "0  All Institutions  1985-86     All Constant         10893      11369   \n",
       "1  All Institutions  1985-86  4 Year Constant         12274      12811   \n",
       "2  All Institutions  1985-86  2 Year Constant          7508       7836   \n",
       "\n",
       "   avg_tuition  \n",
       "0        11131  \n",
       "1        12542  \n",
       "2         7672  "
      ]
     },
     "metadata": {},
     "execution_count": 54
    }
   ],
   "metadata": {}
  },
  {
   "cell_type": "code",
   "execution_count": null,
   "source": [],
   "outputs": [],
   "metadata": {}
  },
  {
   "cell_type": "markdown",
   "source": [
    "## Question 1 - How has Univeristy Diversity Varies by State"
   ],
   "metadata": {}
  },
  {
   "cell_type": "code",
   "execution_count": 3,
   "source": [
    "div_df = datasets['diversity_school'][['total_enrollment','state','category','enrollment']]"
   ],
   "outputs": [],
   "metadata": {}
  },
  {
   "cell_type": "code",
   "execution_count": 4,
   "source": [
    "div_df = div_df.groupby(['state','category'])[['enrollment', 'total_enrollment']].agg('sum')\r\n",
    "div_df['percentage'] = div_df['enrollment']/div_df['total_enrollment']"
   ],
   "outputs": [],
   "metadata": {}
  },
  {
   "cell_type": "code",
   "execution_count": 5,
   "source": [
    "div_df = div_df.reset_index()"
   ],
   "outputs": [],
   "metadata": {}
  },
  {
   "cell_type": "code",
   "execution_count": 6,
   "source": [
    "cats = div_df['category'].unique()"
   ],
   "outputs": [],
   "metadata": {}
  },
  {
   "cell_type": "code",
   "execution_count": 7,
   "source": [
    "div_race = div_df[(div_df['category'] != 'Women') & (div_df['category'] != 'Total Minority')][['state', 'category', 'percentage']]\r\n",
    "race_stats = {}\r\n",
    "for cat in div_race['category'].unique():\r\n",
    "    race_stats[cat] = div_df[div_df['category'] == cat].describe()\r\n",
    "   # print(cat)\r\n",
    "    #print(div_df[div_df['category'] == cat].describe())\r\n",
    "    #print('\\n')\r\n",
    "race_stats.keys()"
   ],
   "outputs": [
    {
     "output_type": "execute_result",
     "data": {
      "text/plain": [
       "dict_keys(['American Indian / Alaska Native', 'Asian', 'Black', 'Hispanic', 'Native Hawaiian / Pacific Islander', 'Non-Resident Foreign', 'Two Or More Races', 'Unknown', 'White'])"
      ]
     },
     "metadata": {},
     "execution_count": 7
    }
   ],
   "metadata": {}
  },
  {
   "cell_type": "code",
   "execution_count": 27,
   "source": [
    "#div_race = div_race.set_index(['state','category']).percentage\r\n",
    "div_race.unstack().plot(kind='bar', stacked=True, figsize=(10,5))\r\n",
    "plt.legend(loc='center left', bbox_to_anchor=(1, 0.5))\r\n",
    "plt.tick_params(axis='x', which='major', labelsize=10)\r\n",
    "plt.savefig('./images/racial_diversity_2014', bbox_inches='tight')"
   ],
   "outputs": [
    {
     "output_type": "display_data",
     "data": {
      "image/png": "[encoded data removed]",
      "text/plain": [
       "<Figure size 720x360 with 1 Axes>"
      ]
     },
     "metadata": {
      "needs_background": "light"
     }
    }
   ],
   "metadata": {}
  },
  {
   "cell_type": "code",
   "execution_count": 32,
   "source": [
    "div_gender = div_df[(div_df['category'] == 'Women')][['state', 'category', 'percentage']]\r\n",
    "gender_stats = div_gender.describe()"
   ],
   "outputs": [],
   "metadata": {}
  },
  {
   "cell_type": "code",
   "execution_count": 33,
   "source": [
    "\r\n",
    "div_gender_temp = div_gender.copy()\r\n",
    "div_gender_temp['percentage'] = 1 - div_gender_temp['percentage']\r\n",
    "div_gender_temp['category'] = 'other'\r\n",
    "div_gender = pd.concat([div_gender, div_gender_temp])\r\n",
    "div_gender = div_gender.set_index(['state','category']).percentage\r\n",
    "div_gender.unstack().plot(kind='bar', stacked=True, figsize=(10,5))\r\n",
    "plt.legend(loc='center left', bbox_to_anchor=(1, 0.5))\r\n",
    "plt.tick_params(axis='x', which='major', labelsize=10)\r\n",
    "plt.savefig('./images/gender_diversity_2014', bbox_inches='tight')"
   ],
   "outputs": [
    {
     "output_type": "display_data",
     "data": {
      "image/png": "[encoded data removed]",
      "text/plain": [
       "<Figure size 720x360 with 1 Axes>"
      ]
     },
     "metadata": {
      "needs_background": "light"
     }
    }
   ],
   "metadata": {}
  },
  {
   "cell_type": "code",
   "execution_count": null,
   "source": [],
   "outputs": [],
   "metadata": {}
  },
  {
   "cell_type": "markdown",
   "source": [
    "## Question 2 - How has Rate of Tuition Changed with Rate of Inflation?"
   ],
   "metadata": {}
  },
  {
   "cell_type": "code",
   "execution_count": 63,
   "source": [
    "#% change in cpi vs % change in tuition cost\r\n",
    "cpi_df = datasets['cpi'][['Year', 'Annual']].copy()\r\n",
    "cpi_df = cpi_df.rename(columns={'Year':'year', 'Annual':'cpi'})\r\n",
    "cpi_df['1_year_change'] = (cpi_df['cpi'].pct_change())*100"
   ],
   "outputs": [],
   "metadata": {}
  },
  {
   "cell_type": "code",
   "execution_count": 64,
   "source": [
    "starting_cpi = cpi_df.iloc[0]['cpi']\r\n",
    "cpi_df['total_change'] = ((cpi_df['cpi'] - starting_cpi)/starting_cpi)*100\r\n",
    "#cpi_df"
   ],
   "outputs": [],
   "metadata": {}
  },
  {
   "cell_type": "code",
   "execution_count": 65,
   "source": [
    "#year column is reformatted to make join with hist_tuition possible.\r\n",
    "#Only years that are present in hist_tuition are updated, and most \r\n",
    "#unneeded are dropped.\r\n",
    "#1_year_change and total change for year '1985-86' are set equal to those \r\n",
    "# of year '1987', since the inflation rates were the same, according to out\r\n",
    "#inflation calculator\r\n",
    "cpi_df.at[0, \"1_year_change\"] = cpi_df.at[2, '1_year_change']\r\n",
    "cpi_df.at[0, \"total_change\"] = cpi_df.at[2, 'total_change']\r\n",
    "cpi_df = cpi_df.drop([1,2,3,4,5,6,7,8,9,11,12,13,14,35, 36])\r\n",
    "year_map = {1985:'1985-86', 1995:'1995-96', 2000:'2000-01', 2001:'2001-02', 2002:'2002-03', 2003:'2003-04', \r\n",
    "    2004:'2004-05' ,2005:'2005-06',2006:'2006-07', 2007:'2007-08', 2008:'2008-09', 2009:'2009-10', 2010:'2010-11', \r\n",
    "    2011:'2011-12', 2012:'2012-13', 2013:'2013-14', 2014:'2014-15', 2015:'2015-16',2016:'2016-17',\r\n",
    "    2017:'2017-18',2018:'2018-19', 2019:'2019-2020'}\r\n",
    "cpi_df = cpi_df.replace({'year': year_map})"
   ],
   "outputs": [],
   "metadata": {}
  },
  {
   "cell_type": "code",
   "execution_count": 66,
   "source": [
    "#Quality check\r\n",
    "#cpi_df"
   ],
   "outputs": [],
   "metadata": {}
  },
  {
   "cell_type": "code",
   "execution_count": 67,
   "source": [
    "#A very messy calculation of percentage change between tuition types and institution type\r\n",
    "\r\n",
    "#CONSTANT\r\n",
    "all__all_const_change = hist_tuition[(hist_tuition['tuition_type']=='All Constant') & (hist_tuition['type']=='All Institutions')]['avg_tuition'].pct_change()*100\r\n",
    "all_4_const_change = hist_tuition[(hist_tuition['tuition_type']=='4 Year Constant') & (hist_tuition['type']=='All Institutions')]['avg_tuition'].pct_change()*100\r\n",
    "all_2_const_change = hist_tuition[(hist_tuition['tuition_type']=='2 Year Constant') & (hist_tuition['type']=='All Institutions')]['avg_tuition'].pct_change()*100\r\n",
    "\r\n",
    "pub_all_const_change = hist_tuition[(hist_tuition['tuition_type']=='All Constant') & (hist_tuition['type']=='Public')]['avg_tuition'].pct_change()*100\r\n",
    "pub_4_const_change = hist_tuition[(hist_tuition['tuition_type']=='4 Year Constant') & (hist_tuition['type']=='Public')]['avg_tuition'].pct_change()*100\r\n",
    "pub_2_const_change = hist_tuition[(hist_tuition['tuition_type']=='2 Year Constant') & (hist_tuition['type']=='Public')]['avg_tuition'].pct_change()*100\r\n",
    "\r\n",
    "pri_all_const_change = hist_tuition[(hist_tuition['tuition_type']=='All Constant') & (hist_tuition['type']=='Private')]['avg_tuition'].pct_change()*100\r\n",
    "pri_4_const_change = hist_tuition[(hist_tuition['tuition_type']=='4 Year Constant') & (hist_tuition['type']=='Private')]['avg_tuition'].pct_change()*100\r\n",
    "pri_2_const_change = hist_tuition[(hist_tuition['tuition_type']=='2 Year Constant') & (hist_tuition['type']=='Private')]['avg_tuition'].pct_change()*100\r\n",
    "\r\n",
    "constant = pd.concat([all__all_const_change, all_2_const_change, all_4_const_change, pub_all_const_change, pub_4_const_change, pub_2_const_change, pri_all_const_change, pri_4_const_change, pri_2_const_change])\r\n",
    "\r\n",
    "#CURRENT\r\n",
    "all__all_curr_change = hist_tuition[(hist_tuition['tuition_type']=='All Current') & (hist_tuition['type']=='All Institutions')]['avg_tuition'].pct_change()*100\r\n",
    "all_4_curr_change = hist_tuition[(hist_tuition['tuition_type']=='4 Year Current') & (hist_tuition['type']=='All Institutions')]['avg_tuition'].pct_change()*100\r\n",
    "all_2_curr_change = hist_tuition[(hist_tuition['tuition_type']=='2 Year Current') & (hist_tuition['type']=='All Institutions')]['avg_tuition'].pct_change()*100\r\n",
    "\r\n",
    "pub_all_curr_change = hist_tuition[(hist_tuition['tuition_type']=='All Current') & (hist_tuition['type']=='Public')]['avg_tuition'].pct_change()*100\r\n",
    "pub_4_curr_change = hist_tuition[(hist_tuition['tuition_type']=='4 Year Current') & (hist_tuition['type']=='Public')]['avg_tuition'].pct_change()*100\r\n",
    "pub_2_curr_change = hist_tuition[(hist_tuition['tuition_type']=='2 Year Current') & (hist_tuition['type']=='Public')]['avg_tuition'].pct_change()*100\r\n",
    "\r\n",
    "pri_all_curr_change = hist_tuition[(hist_tuition['tuition_type']=='All Current') & (hist_tuition['type']=='Private')]['avg_tuition'].pct_change()*100\r\n",
    "pri_4_curr_change = hist_tuition[(hist_tuition['tuition_type']=='4 Year Current') & (hist_tuition['type']=='Private')]['avg_tuition'].pct_change()*100\r\n",
    "pri_2_curr_change = hist_tuition[(hist_tuition['tuition_type']=='2 Year Current') & (hist_tuition['type']=='Private')]['avg_tuition'].pct_change()*100\r\n",
    "\r\n",
    "current = pd.concat([all__all_curr_change, all_4_curr_change, all_2_curr_change, pub_all_curr_change, pub_4_curr_change, pub_2_curr_change, pri_all_curr_change, pri_2_curr_change, pri_4_curr_change])\r\n",
    "\r\n",
    "#Merge\r\n",
    "merged = pd.concat([constant, current]).sort_index()\r\n",
    "merged"
   ],
   "outputs": [
    {
     "output_type": "execute_result",
     "data": {
      "text/plain": [
       "0           NaN\n",
       "1           NaN\n",
       "2           NaN\n",
       "3           NaN\n",
       "4           NaN\n",
       "         ...   \n",
       "265    2.994580\n",
       "266    0.248364\n",
       "267    4.887738\n",
       "268    4.886933\n",
       "269    2.092308\n",
       "Name: avg_tuition, Length: 270, dtype: float64"
      ]
     },
     "metadata": {},
     "execution_count": 67
    }
   ],
   "metadata": {}
  },
  {
   "cell_type": "code",
   "execution_count": 68,
   "source": [
    "#Join change column onto tuition data frame, and rename columns\r\n",
    "hist_tuition = hist_tuition.join(merged, rsuffix='_1', lsuffix='_2')\r\n",
    "hist_tuition = hist_tuition.rename(columns={'avg_tuition_2': 'avg_tuition', 'avg_tuition_1':'1_year_change'})\r\n",
    "hist_tuition\r\n"
   ],
   "outputs": [
    {
     "output_type": "execute_result",
     "data": {
      "text/html": [
       "<div>\n",
       "<style scoped>\n",
       "    .dataframe tbody tr th:only-of-type {\n",
       "        vertical-align: middle;\n",
       "    }\n",
       "\n",
       "    .dataframe tbody tr th {\n",
       "        vertical-align: top;\n",
       "    }\n",
       "\n",
       "    .dataframe thead th {\n",
       "        text-align: right;\n",
       "    }\n",
       "</style>\n",
       "<table border=\"1\" class=\"dataframe\">\n",
       "  <thead>\n",
       "    <tr style=\"text-align: right;\">\n",
       "      <th></th>\n",
       "      <th>type</th>\n",
       "      <th>year</th>\n",
       "      <th>tuition_type</th>\n",
       "      <th>tuition_cost</th>\n",
       "      <th>tuition_2</th>\n",
       "      <th>avg_tuition</th>\n",
       "      <th>1_year_change</th>\n",
       "    </tr>\n",
       "  </thead>\n",
       "  <tbody>\n",
       "    <tr>\n",
       "      <th>0</th>\n",
       "      <td>All Institutions</td>\n",
       "      <td>1985-86</td>\n",
       "      <td>All Constant</td>\n",
       "      <td>10893</td>\n",
       "      <td>11369</td>\n",
       "      <td>11131</td>\n",
       "      <td>NaN</td>\n",
       "    </tr>\n",
       "    <tr>\n",
       "      <th>1</th>\n",
       "      <td>All Institutions</td>\n",
       "      <td>1985-86</td>\n",
       "      <td>4 Year Constant</td>\n",
       "      <td>12274</td>\n",
       "      <td>12811</td>\n",
       "      <td>12542</td>\n",
       "      <td>NaN</td>\n",
       "    </tr>\n",
       "    <tr>\n",
       "      <th>2</th>\n",
       "      <td>All Institutions</td>\n",
       "      <td>1985-86</td>\n",
       "      <td>2 Year Constant</td>\n",
       "      <td>7508</td>\n",
       "      <td>7836</td>\n",
       "      <td>7672</td>\n",
       "      <td>NaN</td>\n",
       "    </tr>\n",
       "    <tr>\n",
       "      <th>3</th>\n",
       "      <td>All Institutions</td>\n",
       "      <td>1985-86</td>\n",
       "      <td>All Current</td>\n",
       "      <td>4885</td>\n",
       "      <td>4885</td>\n",
       "      <td>4885</td>\n",
       "      <td>NaN</td>\n",
       "    </tr>\n",
       "    <tr>\n",
       "      <th>4</th>\n",
       "      <td>All Institutions</td>\n",
       "      <td>1985-86</td>\n",
       "      <td>4 Year Current</td>\n",
       "      <td>5504</td>\n",
       "      <td>5504</td>\n",
       "      <td>5504</td>\n",
       "      <td>NaN</td>\n",
       "    </tr>\n",
       "    <tr>\n",
       "      <th>...</th>\n",
       "      <td>...</td>\n",
       "      <td>...</td>\n",
       "      <td>...</td>\n",
       "      <td>...</td>\n",
       "      <td>...</td>\n",
       "      <td>...</td>\n",
       "      <td>...</td>\n",
       "    </tr>\n",
       "    <tr>\n",
       "      <th>265</th>\n",
       "      <td>Private</td>\n",
       "      <td>2016-17</td>\n",
       "      <td>4 Year Constant</td>\n",
       "      <td>41468</td>\n",
       "      <td>43279</td>\n",
       "      <td>42373</td>\n",
       "      <td>2.994580</td>\n",
       "    </tr>\n",
       "    <tr>\n",
       "      <th>266</th>\n",
       "      <td>Private</td>\n",
       "      <td>2016-17</td>\n",
       "      <td>2 Year Constant</td>\n",
       "      <td>24882</td>\n",
       "      <td>25976</td>\n",
       "      <td>25429</td>\n",
       "      <td>0.248364</td>\n",
       "    </tr>\n",
       "    <tr>\n",
       "      <th>267</th>\n",
       "      <td>Private</td>\n",
       "      <td>2016-17</td>\n",
       "      <td>All Current</td>\n",
       "      <td>40925</td>\n",
       "      <td>40922</td>\n",
       "      <td>40923</td>\n",
       "      <td>4.887738</td>\n",
       "    </tr>\n",
       "    <tr>\n",
       "      <th>268</th>\n",
       "      <td>Private</td>\n",
       "      <td>2016-17</td>\n",
       "      <td>4 Year Current</td>\n",
       "      <td>41468</td>\n",
       "      <td>41465</td>\n",
       "      <td>41466</td>\n",
       "      <td>4.886933</td>\n",
       "    </tr>\n",
       "    <tr>\n",
       "      <th>269</th>\n",
       "      <td>Private</td>\n",
       "      <td>2016-17</td>\n",
       "      <td>2 Year Current</td>\n",
       "      <td>24882</td>\n",
       "      <td>24888</td>\n",
       "      <td>24885</td>\n",
       "      <td>2.092308</td>\n",
       "    </tr>\n",
       "  </tbody>\n",
       "</table>\n",
       "<p>270 rows × 7 columns</p>\n",
       "</div>"
      ],
      "text/plain": [
       "                 type     year     tuition_type  tuition_cost  tuition_2  \\\n",
       "0    All Institutions  1985-86     All Constant         10893      11369   \n",
       "1    All Institutions  1985-86  4 Year Constant         12274      12811   \n",
       "2    All Institutions  1985-86  2 Year Constant          7508       7836   \n",
       "3    All Institutions  1985-86      All Current          4885       4885   \n",
       "4    All Institutions  1985-86   4 Year Current          5504       5504   \n",
       "..                ...      ...              ...           ...        ...   \n",
       "265           Private  2016-17  4 Year Constant         41468      43279   \n",
       "266           Private  2016-17  2 Year Constant         24882      25976   \n",
       "267           Private  2016-17      All Current         40925      40922   \n",
       "268           Private  2016-17   4 Year Current         41468      41465   \n",
       "269           Private  2016-17   2 Year Current         24882      24888   \n",
       "\n",
       "     avg_tuition  1_year_change  \n",
       "0          11131            NaN  \n",
       "1          12542            NaN  \n",
       "2           7672            NaN  \n",
       "3           4885            NaN  \n",
       "4           5504            NaN  \n",
       "..           ...            ...  \n",
       "265        42373       2.994580  \n",
       "266        25429       0.248364  \n",
       "267        40923       4.887738  \n",
       "268        41466       4.886933  \n",
       "269        24885       2.092308  \n",
       "\n",
       "[270 rows x 7 columns]"
      ]
     },
     "metadata": {},
     "execution_count": 68
    }
   ],
   "metadata": {}
  },
  {
   "cell_type": "code",
   "execution_count": 69,
   "source": [
    "cpi_df.sample(3)"
   ],
   "outputs": [
    {
     "output_type": "execute_result",
     "data": {
      "text/html": [
       "<div>\n",
       "<style scoped>\n",
       "    .dataframe tbody tr th:only-of-type {\n",
       "        vertical-align: middle;\n",
       "    }\n",
       "\n",
       "    .dataframe tbody tr th {\n",
       "        vertical-align: top;\n",
       "    }\n",
       "\n",
       "    .dataframe thead th {\n",
       "        text-align: right;\n",
       "    }\n",
       "</style>\n",
       "<table border=\"1\" class=\"dataframe\">\n",
       "  <thead>\n",
       "    <tr style=\"text-align: right;\">\n",
       "      <th></th>\n",
       "      <th>year</th>\n",
       "      <th>cpi</th>\n",
       "      <th>1_year_change</th>\n",
       "      <th>total_change</th>\n",
       "    </tr>\n",
       "  </thead>\n",
       "  <tbody>\n",
       "    <tr>\n",
       "      <th>17</th>\n",
       "      <td>2002-03</td>\n",
       "      <td>179.900</td>\n",
       "      <td>1.581028</td>\n",
       "      <td>67.193309</td>\n",
       "    </tr>\n",
       "    <tr>\n",
       "      <th>18</th>\n",
       "      <td>2003-04</td>\n",
       "      <td>184.000</td>\n",
       "      <td>2.279044</td>\n",
       "      <td>71.003717</td>\n",
       "    </tr>\n",
       "    <tr>\n",
       "      <th>24</th>\n",
       "      <td>2009-10</td>\n",
       "      <td>214.537</td>\n",
       "      <td>-0.355778</td>\n",
       "      <td>99.383829</td>\n",
       "    </tr>\n",
       "  </tbody>\n",
       "</table>\n",
       "</div>"
      ],
      "text/plain": [
       "       year      cpi  1_year_change  total_change\n",
       "17  2002-03  179.900       1.581028     67.193309\n",
       "18  2003-04  184.000       2.279044     71.003717\n",
       "24  2009-10  214.537      -0.355778     99.383829"
      ]
     },
     "metadata": {},
     "execution_count": 69
    }
   ],
   "metadata": {}
  },
  {
   "cell_type": "code",
   "execution_count": 70,
   "source": [
    "hist_tuition.sample(3)"
   ],
   "outputs": [
    {
     "output_type": "execute_result",
     "data": {
      "text/html": [
       "<div>\n",
       "<style scoped>\n",
       "    .dataframe tbody tr th:only-of-type {\n",
       "        vertical-align: middle;\n",
       "    }\n",
       "\n",
       "    .dataframe tbody tr th {\n",
       "        vertical-align: top;\n",
       "    }\n",
       "\n",
       "    .dataframe thead th {\n",
       "        text-align: right;\n",
       "    }\n",
       "</style>\n",
       "<table border=\"1\" class=\"dataframe\">\n",
       "  <thead>\n",
       "    <tr style=\"text-align: right;\">\n",
       "      <th></th>\n",
       "      <th>type</th>\n",
       "      <th>year</th>\n",
       "      <th>tuition_type</th>\n",
       "      <th>tuition_cost</th>\n",
       "      <th>tuition_2</th>\n",
       "      <th>avg_tuition</th>\n",
       "      <th>1_year_change</th>\n",
       "    </tr>\n",
       "  </thead>\n",
       "  <tbody>\n",
       "    <tr>\n",
       "      <th>4</th>\n",
       "      <td>All Institutions</td>\n",
       "      <td>1985-86</td>\n",
       "      <td>4 Year Current</td>\n",
       "      <td>5504</td>\n",
       "      <td>5504</td>\n",
       "      <td>5504</td>\n",
       "      <td>NaN</td>\n",
       "    </tr>\n",
       "    <tr>\n",
       "      <th>13</th>\n",
       "      <td>All Institutions</td>\n",
       "      <td>2000-01</td>\n",
       "      <td>4 Year Constant</td>\n",
       "      <td>17909</td>\n",
       "      <td>18692</td>\n",
       "      <td>18300</td>\n",
       "      <td>10.380602</td>\n",
       "    </tr>\n",
       "    <tr>\n",
       "      <th>165</th>\n",
       "      <td>Public</td>\n",
       "      <td>2012-13</td>\n",
       "      <td>All Current</td>\n",
       "      <td>15021</td>\n",
       "      <td>15021</td>\n",
       "      <td>15021</td>\n",
       "      <td>43.686627</td>\n",
       "    </tr>\n",
       "  </tbody>\n",
       "</table>\n",
       "</div>"
      ],
      "text/plain": [
       "                 type     year     tuition_type  tuition_cost  tuition_2  \\\n",
       "4    All Institutions  1985-86   4 Year Current          5504       5504   \n",
       "13   All Institutions  2000-01  4 Year Constant         17909      18692   \n",
       "165            Public  2012-13      All Current         15021      15021   \n",
       "\n",
       "     avg_tuition  1_year_change  \n",
       "4           5504            NaN  \n",
       "13         18300      10.380602  \n",
       "165        15021      43.686627  "
      ]
     },
     "metadata": {},
     "execution_count": 70
    }
   ],
   "metadata": {}
  },
  {
   "cell_type": "code",
   "execution_count": 71,
   "source": [
    "#Lastly, add columns for the change in tuition since the first measured year\r\n",
    "#magic values are used, but are just the appropriate value from avg_tuition from\r\n",
    "#the year '1985-86\r\n",
    "\r\n",
    "#All Institutions, All Constant\r\n",
    "hist_tuition['total_change'] = hist_tuition[(hist_tuition['year'] != '1985-86') & (hist_tuition['type'] == 'All Institutions') & \r\n",
    "    (hist_tuition['tuition_type'] == 'All Constant')]['avg_tuition'] - 11131\r\n",
    "#All Institutions, 4 Year Constant\r\n",
    "hist_tuition.loc[(hist_tuition['tuition_type'] == '4 Year Constant') & (hist_tuition['type'] == 'All Institutions'), 'total_change'] = hist_tuition[(hist_tuition['year'] != '1985-86') & (hist_tuition['type'] == 'All Institutions') & (hist_tuition['tuition_type'] == '4 Year Constant')]['avg_tuition'] - 12542\r\n",
    "\r\n",
    "#All Institutions, 2 Year Constant\r\n",
    "hist_tuition.loc[(hist_tuition['tuition_type'] == '2 Year Constant') & (hist_tuition['type'] == 'All Institutions'), 'total_change'] = hist_tuition[(hist_tuition['year'] != '1985-86') & \r\n",
    "    (hist_tuition['type'] == 'All Institutions') & (hist_tuition['tuition_type'] == '2 Year Constant')]['avg_tuition'] - 7672\r\n",
    "\r\n",
    "#All Institutions, All Current\r\n",
    "hist_tuition.loc[(hist_tuition['tuition_type'] == 'All Current') & (hist_tuition['type'] == 'All Institutions'), 'total_change'] = hist_tuition[(hist_tuition['year'] != '1985-86') & \r\n",
    "    (hist_tuition['type'] == 'All Institutions') & (hist_tuition['tuition_type'] == 'All Current')]['avg_tuition'] - 4885\r\n",
    "#All Institutions, 2 Year Current\r\n",
    "hist_tuition.loc[(hist_tuition['tuition_type'] == '2 Year Current') & (hist_tuition['type'] == 'All Institutions'), 'total_change'] = hist_tuition[(hist_tuition['year'] != '1985-86') & \r\n",
    "    (hist_tuition['type'] == 'All Institutions') & (hist_tuition['tuition_type'] == '2 Year Current')]['avg_tuition'] - 3367\r\n",
    "#All Institutions, 4 Year Current\r\n",
    "hist_tuition.loc[(hist_tuition['tuition_type'] == '4 Year Current') & (hist_tuition['type'] == 'All Institutions'), 'total_change'] = hist_tuition[(hist_tuition['year'] != '1985-86') & \r\n",
    "    (hist_tuition['type'] == 'All Institutions') & (hist_tuition['tuition_type'] == '4 Year Current')]['avg_tuition'] - 5504\r\n",
    "\r\n",
    "#Public Institutions, All Constant\r\n",
    "hist_tuition.loc[(hist_tuition['tuition_type'] == 'All Constant') & (hist_tuition['type'] == 'Public'), 'total_change'] = hist_tuition[(hist_tuition['year'] != '1985-86') & \r\n",
    "    (hist_tuition['type'] == 'Public') & (hist_tuition['tuition_type'] == 'All Constant')]['avg_tuition'] - 8138\r\n",
    "#Public Institutions, 2 Year Constant\r\n",
    "hist_tuition.loc[(hist_tuition['tuition_type'] == '2 Year Constant') & (hist_tuition['type'] == 'Public'), 'total_change'] = hist_tuition[(hist_tuition['year'] != '1985-86') & \r\n",
    "    (hist_tuition['type'] == 'Public') & (hist_tuition['tuition_type'] == '2 Year Constant')]['avg_tuition'] - 6792\r\n",
    "#Public Institutions, 4 Year Constant\r\n",
    "hist_tuition.loc[(hist_tuition['tuition_type'] == '4 Year Constant') & (hist_tuition['type'] == 'Public'), 'total_change'] = hist_tuition[(hist_tuition['year'] != '1985-86') & \r\n",
    "    (hist_tuition['type'] == 'Public') & (hist_tuition['tuition_type'] == '4 Year Constant')]['avg_tuition'] - 8792\r\n",
    "\r\n",
    "#Public Institutions, All Current\r\n",
    "hist_tuition.loc[(hist_tuition['tuition_type'] == 'All Current') & (hist_tuition['type'] == 'Public'), 'total_change'] = hist_tuition[(hist_tuition['year'] != '1985-86') & \r\n",
    "    (hist_tuition['type'] == 'Public') & (hist_tuition['tuition_type'] == 'All Current')]['avg_tuition'] - 3571\r\n",
    "#Public Institutions, 2 Year Current\r\n",
    "hist_tuition.loc[(hist_tuition['tuition_type'] == '2 Year Current') & (hist_tuition['type'] == 'Public'), 'total_change'] = hist_tuition[(hist_tuition['year'] != '1985-86') & \r\n",
    "    (hist_tuition['type'] == 'Public') & (hist_tuition['tuition_type'] == '2 Year Current')]['avg_tuition'] - 2981\r\n",
    "#Public Institutions, 4 Year Current\r\n",
    "hist_tuition.loc[(hist_tuition['tuition_type'] == '4 Year Current') & (hist_tuition['type'] == 'Public'), 'total_change'] = hist_tuition[(hist_tuition['year'] != '1985-86') & \r\n",
    "    (hist_tuition['type'] == 'Public') & (hist_tuition['tuition_type'] == '4 Year Current')]['avg_tuition'] - 3859\r\n",
    "\r\n",
    "#Private Institutions, All Constant\r\n",
    "hist_tuition.loc[(hist_tuition['tuition_type'] == 'All Constant') & (hist_tuition['type'] == 'Private'), 'total_change'] = hist_tuition[(hist_tuition['year'] != '1985-86') & \r\n",
    "    (hist_tuition['type'] == 'Private') & (hist_tuition['tuition_type'] == 'All Constant')]['avg_tuition'] - 20245\r\n",
    "#Private Institutions, 2 Year Constant\r\n",
    "hist_tuition.loc[(hist_tuition['tuition_type'] == '2 Year Constant') & (hist_tuition['type'] == 'Private'), 'total_change'] = hist_tuition[(hist_tuition['year'] != '1985-86') & \r\n",
    "    (hist_tuition['type'] == 'Private') & (hist_tuition['tuition_type'] == '2 Year Constant')]['avg_tuition'] - 14838\r\n",
    "#Private Institutions, 4 Year Constant\r\n",
    "hist_tuition.loc[(hist_tuition['tuition_type'] == '4 Year Constant') & (hist_tuition['type'] == 'Private'), 'total_change'] = hist_tuition[(hist_tuition['year'] != '1985-86') & \r\n",
    "    (hist_tuition['type'] == 'Private') & (hist_tuition['tuition_type'] == '4 Year Constant')]['avg_tuition'] - 21028\r\n",
    "\r\n",
    "#Private Institutions, All Current\r\n",
    "hist_tuition.loc[(hist_tuition['tuition_type'] == 'All Current') & (hist_tuition['type'] == 'Private'), 'total_change'] = hist_tuition[(hist_tuition['year'] != '1985-86') & \r\n",
    "    (hist_tuition['type'] == 'Private') & (hist_tuition['tuition_type'] == 'All Current')]['avg_tuition'] - 8885\r\n",
    "#Private Institutions, 2 Year Current\r\n",
    "hist_tuition.loc[(hist_tuition['tuition_type'] == '2 Year Current') & (hist_tuition['type'] == 'Private'), 'total_change'] = hist_tuition[(hist_tuition['year'] != '1985-86') & \r\n",
    "    (hist_tuition['type'] == 'Private') & (hist_tuition['tuition_type'] == '2 Year Current')]['avg_tuition'] - 6512\r\n",
    "#Private Institutions, 4 Year Current\r\n",
    "hist_tuition.loc[(hist_tuition['tuition_type'] == '4 Year Current') & (hist_tuition['type'] == 'Private'), 'total_change'] = hist_tuition[(hist_tuition['year'] != '1985-86') & \r\n",
    "    (hist_tuition['type'] == 'Private') & (hist_tuition['tuition_type'] == '4 Year Current')]['avg_tuition'] - 9928\r\n"
   ],
   "outputs": [],
   "metadata": {}
  },
  {
   "cell_type": "code",
   "execution_count": 72,
   "source": [
    "#make final dataframe\r\n",
    "tuition_vs_inflation = hist_tuition.merge(cpi_df, on='year', suffixes=('_tuition', '_cpi'))\r\n",
    "tuition_vs_inflation=tuition_vs_inflation.fillna(value={'total_change_tuition':0})\r\n",
    "tuition_vs_inflation['dif_1_year'] = tuition_vs_inflation['1_year_change_tuition']- tuition_vs_inflation['1_year_change_cpi']\r\n",
    "tuition_vs_inflation['dif_total'] = tuition_vs_inflation['total_change_tuition']- tuition_vs_inflation['total_change_cpi']\r\n"
   ],
   "outputs": [],
   "metadata": {}
  },
  {
   "cell_type": "code",
   "execution_count": 73,
   "source": [
    "#Save dataframe to csv\r\n",
    "tuition_vs_inflation.to_csv('./data/tuition_vs_inflation.csv')"
   ],
   "outputs": [],
   "metadata": {}
  },
  {
   "cell_type": "code",
   "execution_count": 79,
   "source": [
    "#Chart cost of tuition for all institutions in constant $ vs cpi \r\n",
    "temp_1 = tuition_vs_inflation[(tuition_vs_inflation['type']=='All Institutions')&(tuition_vs_inflation['tuition_type']=='All Constant')][['avg_tuition', 'year']].copy()\r\n",
    "temp_2 = tuition_vs_inflation[(tuition_vs_inflation['type']=='All Institutions')&(tuition_vs_inflation['tuition_type']=='All Constant')][['cpi', 'year']].copy()\r\n",
    "\r\n",
    "temp_1['avg_tuition'] = np.log2(temp_1['avg_tuition'])\r\n",
    "temp_2['cpi'] = np.log2(temp_2['cpi'])\r\n",
    "\r\n",
    "axis_labels = temp_1[['year']].values\r\n",
    "x_axis = np.arange(0, len(axis_labels), 1)\r\n",
    "plt.xticks(x_axis, axis_labels, rotation=45)\r\n",
    "plt.plot(x_axis,temp_1['avg_tuition'])\r\n",
    "plt.plot(x_axis,temp_2['cpi'])\r\n",
    "plt.legend(['Average Tuition', 'CPI'])\r\n",
    "plt.title('Tuition vs. CPI')\r\n",
    "plt.savefig('./images/tuition_cpi_value', bbox_inches='tight')"
   ],
   "outputs": [
    {
     "output_type": "display_data",
     "data": {
      "image/png": "[encoded data removed]",
      "text/plain": [
       "<Figure size 432x288 with 1 Axes>"
      ]
     },
     "metadata": {
      "needs_background": "light"
     }
    }
   ],
   "metadata": {}
  },
  {
   "cell_type": "code",
   "execution_count": 96,
   "source": [
    "#Chart difference in tuition changes between years\r\n",
    "temp_1 = tuition_vs_inflation[(tuition_vs_inflation['type']=='All Institutions')&(tuition_vs_inflation['tuition_type']=='All Constant')][['year','1_year_change_tuition']].copy()\r\n",
    "temp_2 = tuition_vs_inflation[(tuition_vs_inflation['type']=='All Institutions')&(tuition_vs_inflation['tuition_type']=='All Constant')][['year','1_year_change_cpi']].copy()\r\n",
    "\r\n",
    "\r\n",
    "\r\n",
    "axis_labels = temp_1[['year']].values\r\n",
    "x_axis = np.arange(0, len(axis_labels), 1)\r\n",
    "plt.xticks(x_axis, axis_labels, rotation=45)\r\n",
    "plt.title('Percent Increase in Tution/CPI Since Last Measured')\r\n",
    "plt.plot(x_axis,temp_1['1_year_change_tuition'])\r\n",
    "plt.plot(x_axis,temp_2['1_year_change_cpi'])\r\n",
    "plt.legend(['Tuition', 'CPI'])\r\n",
    "plt.savefig('./images/tuition_cpi_change_percent', bbox_inches='tight')"
   ],
   "outputs": [
    {
     "output_type": "display_data",
     "data": {
      "image/png": "[encoded data removed]",
      "text/plain": [
       "<Figure size 432x288 with 1 Axes>"
      ]
     },
     "metadata": {
      "needs_background": "light"
     }
    }
   ],
   "metadata": {}
  },
  {
   "cell_type": "code",
   "execution_count": 86,
   "source": [
    "#Get stats with outlier values caused by measurement gaps\r\n",
    "temp_1.drop([0,18, 36]).describe()"
   ],
   "outputs": [
    {
     "output_type": "execute_result",
     "data": {
      "text/html": [
       "<div>\n",
       "<style scoped>\n",
       "    .dataframe tbody tr th:only-of-type {\n",
       "        vertical-align: middle;\n",
       "    }\n",
       "\n",
       "    .dataframe tbody tr th {\n",
       "        vertical-align: top;\n",
       "    }\n",
       "\n",
       "    .dataframe thead th {\n",
       "        text-align: right;\n",
       "    }\n",
       "</style>\n",
       "<table border=\"1\" class=\"dataframe\">\n",
       "  <thead>\n",
       "    <tr style=\"text-align: right;\">\n",
       "      <th></th>\n",
       "      <th>1_year_change_tuition</th>\n",
       "    </tr>\n",
       "  </thead>\n",
       "  <tbody>\n",
       "    <tr>\n",
       "      <th>count</th>\n",
       "      <td>16.000000</td>\n",
       "    </tr>\n",
       "    <tr>\n",
       "      <th>mean</th>\n",
       "      <td>2.740106</td>\n",
       "    </tr>\n",
       "    <tr>\n",
       "      <th>std</th>\n",
       "      <td>1.060769</td>\n",
       "    </tr>\n",
       "    <tr>\n",
       "      <th>min</th>\n",
       "      <td>1.049206</td>\n",
       "    </tr>\n",
       "    <tr>\n",
       "      <th>25%</th>\n",
       "      <td>2.193825</td>\n",
       "    </tr>\n",
       "    <tr>\n",
       "      <th>50%</th>\n",
       "      <td>2.598774</td>\n",
       "    </tr>\n",
       "    <tr>\n",
       "      <th>75%</th>\n",
       "      <td>3.309192</td>\n",
       "    </tr>\n",
       "    <tr>\n",
       "      <th>max</th>\n",
       "      <td>5.514122</td>\n",
       "    </tr>\n",
       "  </tbody>\n",
       "</table>\n",
       "</div>"
      ],
      "text/plain": [
       "       1_year_change_tuition\n",
       "count              16.000000\n",
       "mean                2.740106\n",
       "std                 1.060769\n",
       "min                 1.049206\n",
       "25%                 2.193825\n",
       "50%                 2.598774\n",
       "75%                 3.309192\n",
       "max                 5.514122"
      ]
     },
     "metadata": {},
     "execution_count": 86
    }
   ],
   "metadata": {}
  },
  {
   "cell_type": "code",
   "execution_count": 99,
   "source": [
    "#get descriptive stats on cpi change\r\n",
    "#outlier don't need to be dropped since there was no gap in measurment periods when change was calculated.\r\n",
    "cpi_change = tuition_vs_inflation[(tuition_vs_inflation['type'] == 'All Institutions') & (tuition_vs_inflation['tuition_type']== 'All Constant')][['year','1_year_change_cpi']]\r\n",
    "cpi_change.describe()"
   ],
   "outputs": [
    {
     "output_type": "execute_result",
     "data": {
      "text/html": [
       "<div>\n",
       "<style scoped>\n",
       "    .dataframe tbody tr th:only-of-type {\n",
       "        vertical-align: middle;\n",
       "    }\n",
       "\n",
       "    .dataframe tbody tr th {\n",
       "        vertical-align: top;\n",
       "    }\n",
       "\n",
       "    .dataframe thead th {\n",
       "        text-align: right;\n",
       "    }\n",
       "</style>\n",
       "<table border=\"1\" class=\"dataframe\">\n",
       "  <thead>\n",
       "    <tr style=\"text-align: right;\">\n",
       "      <th></th>\n",
       "      <th>1_year_change_cpi</th>\n",
       "    </tr>\n",
       "  </thead>\n",
       "  <tbody>\n",
       "    <tr>\n",
       "      <th>count</th>\n",
       "      <td>19.000000</td>\n",
       "    </tr>\n",
       "    <tr>\n",
       "      <th>mean</th>\n",
       "      <td>2.289099</td>\n",
       "    </tr>\n",
       "    <tr>\n",
       "      <th>std</th>\n",
       "      <td>1.158498</td>\n",
       "    </tr>\n",
       "    <tr>\n",
       "      <th>min</th>\n",
       "      <td>-0.355778</td>\n",
       "    </tr>\n",
       "    <tr>\n",
       "      <th>25%</th>\n",
       "      <td>1.601608</td>\n",
       "    </tr>\n",
       "    <tr>\n",
       "      <th>50%</th>\n",
       "      <td>2.663043</td>\n",
       "    </tr>\n",
       "    <tr>\n",
       "      <th>75%</th>\n",
       "      <td>3.191168</td>\n",
       "    </tr>\n",
       "    <tr>\n",
       "      <th>max</th>\n",
       "      <td>3.839550</td>\n",
       "    </tr>\n",
       "  </tbody>\n",
       "</table>\n",
       "</div>"
      ],
      "text/plain": [
       "       1_year_change_cpi\n",
       "count          19.000000\n",
       "mean            2.289099\n",
       "std             1.158498\n",
       "min            -0.355778\n",
       "25%             1.601608\n",
       "50%             2.663043\n",
       "75%             3.191168\n",
       "max             3.839550"
      ]
     },
     "metadata": {},
     "execution_count": 99
    }
   ],
   "metadata": {}
  },
  {
   "cell_type": "code",
   "execution_count": 102,
   "source": [
    "#Does current tuition = past tuition * inflation rate\r\n",
    "temp_1 = tuition_vs_inflation[(tuition_vs_inflation['type']=='All Institutions')&(tuition_vs_inflation['tuition_type']=='All Constant')][['year','dif_1_year']].copy()\r\n",
    "\r\n",
    "axis_labels = temp_1[['year']].values\r\n",
    "x_axis = np.arange(0, len(axis_labels), 1)\r\n",
    "plt.xticks(x_axis, axis_labels, rotation=45)\r\n",
    "plt.title('Difference Between Yearly % Change in Tuition and CPI')\r\n",
    "plt.plot(x_axis,temp_1['dif_1_year'])\r\n",
    "plt.savefig('./images/difference_tuition_cpi_percent_change', bbox_inches='tight')"
   ],
   "outputs": [
    {
     "output_type": "display_data",
     "data": {
      "image/png": "[encoded data removed]",
      "text/plain": [
       "<Figure size 432x288 with 1 Axes>"
      ]
     },
     "metadata": {
      "needs_background": "light"
     }
    }
   ],
   "metadata": {}
  },
  {
   "cell_type": "code",
   "execution_count": 88,
   "source": [
    "temp_1.drop([0,18, 36])['dif_1_year'].describe()"
   ],
   "outputs": [
    {
     "output_type": "execute_result",
     "data": {
      "text/plain": [
       "count    16.000000\n",
       "mean      0.637114\n",
       "std       1.421672\n",
       "min      -1.784837\n",
       "25%      -0.139179\n",
       "50%       0.607934\n",
       "75%       1.273692\n",
       "max       3.235078\n",
       "Name: dif_1_year, dtype: float64"
      ]
     },
     "metadata": {},
     "execution_count": 88
    }
   ],
   "metadata": {}
  },
  {
   "cell_type": "code",
   "execution_count": 133,
   "source": [
    "row_1 = tuition_vs_inflation[(tuition_vs_inflation['year']=='2016-17') & (tuition_vs_inflation['type'] == 'All Institutions') & (tuition_vs_inflation['tuition_type'] \r\n",
    "    == 'All Constant')][['type', 'year', 'tuition_type', 'avg_tuition', 'total_change_tuition', 'total_change_cpi']]\r\n",
    "row_2 = tuition_vs_inflation[(tuition_vs_inflation['year']=='1985-86') & (tuition_vs_inflation['type'] == 'All Institutions') & (tuition_vs_inflation['tuition_type'] \r\n",
    "    == 'All Constant')][['type', 'year', 'tuition_type', 'avg_tuition', 'total_change_tuition', 'total_change_cpi']]\r\n",
    "first_vs_last = pd.concat([row_1, row_2])\r\n",
    "first_vs_last"
   ],
   "outputs": [
    {
     "output_type": "execute_result",
     "data": {
      "text/html": [
       "<div>\n",
       "<style scoped>\n",
       "    .dataframe tbody tr th:only-of-type {\n",
       "        vertical-align: middle;\n",
       "    }\n",
       "\n",
       "    .dataframe tbody tr th {\n",
       "        vertical-align: top;\n",
       "    }\n",
       "\n",
       "    .dataframe thead th {\n",
       "        text-align: right;\n",
       "    }\n",
       "</style>\n",
       "<table border=\"1\" class=\"dataframe\">\n",
       "  <thead>\n",
       "    <tr style=\"text-align: right;\">\n",
       "      <th></th>\n",
       "      <th>type</th>\n",
       "      <th>year</th>\n",
       "      <th>tuition_type</th>\n",
       "      <th>avg_tuition</th>\n",
       "      <th>total_change_tuition</th>\n",
       "      <th>total_change_cpi</th>\n",
       "    </tr>\n",
       "  </thead>\n",
       "  <tbody>\n",
       "    <tr>\n",
       "      <th>252</th>\n",
       "      <td>All Institutions</td>\n",
       "      <td>2016-17</td>\n",
       "      <td>All Constant</td>\n",
       "      <td>23596</td>\n",
       "      <td>12465.0</td>\n",
       "      <td>123.054833</td>\n",
       "    </tr>\n",
       "    <tr>\n",
       "      <th>0</th>\n",
       "      <td>All Institutions</td>\n",
       "      <td>1985-86</td>\n",
       "      <td>All Constant</td>\n",
       "      <td>11131</td>\n",
       "      <td>0.0</td>\n",
       "      <td>5.576208</td>\n",
       "    </tr>\n",
       "  </tbody>\n",
       "</table>\n",
       "</div>"
      ],
      "text/plain": [
       "                 type     year  tuition_type  avg_tuition  \\\n",
       "252  All Institutions  2016-17  All Constant        23596   \n",
       "0    All Institutions  1985-86  All Constant        11131   \n",
       "\n",
       "     total_change_tuition  total_change_cpi  \n",
       "252               12465.0        123.054833  \n",
       "0                     0.0          5.576208  "
      ]
     },
     "metadata": {},
     "execution_count": 133
    }
   ],
   "metadata": {}
  }
 ],
 "metadata": {
  "kernelspec": {
   "name": "python3",
   "display_name": "Python 3.8.11 64-bit ('base': conda)"
  },
  "language_info": {
   "name": "python",
   "version": "3.8.11",
   "mimetype": "text/x-python",
   "codemirror_mode": {
    "name": "ipython",
    "version": 3
   },
   "pygments_lexer": "ipython3",
   "nbconvert_exporter": "python",
   "file_extension": ".py"
  },
  "interpreter": {
   "hash": "a8f61be024eba58adef938c9aa1e29e02cb3dece83a5348b1a2dafd16a070453"
  }
 },
 "nbformat": 4,
 "nbformat_minor": 5
}