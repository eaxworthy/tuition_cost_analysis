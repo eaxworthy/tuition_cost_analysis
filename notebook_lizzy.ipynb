{
 "cells": [
  {
   "cell_type": "code",
   "execution_count": 2,
   "source": [
    "import pandas as pd\r\n",
    "import numpy as np\r\n",
    "import scipy.stats as stats"
   ],
   "outputs": [],
   "metadata": {}
  },
  {
   "cell_type": "markdown",
   "source": [
    "## Loading Data"
   ],
   "metadata": {}
  },
  {
   "cell_type": "code",
   "execution_count": 19,
   "source": [
    "#import all csvs I'll use from the data folder into dataframes.\r\n",
    "#each dataframe is accessed via datasets[<name>], with names \r\n",
    "#being the same as those in the list documents\r\n",
    "path = './data/'\r\n",
    "documents = ['diversity_school', 'salary_potential', 'tuition_income',\r\n",
    "'historical_tuition', 'tuition_cost', 'table', 'cpi']\r\n",
    "datasets = {}\r\n",
    "\r\n",
    "for doc in documents:\r\n",
    "    filename = path + doc + '.csv'\r\n",
    "    df = pd.read_csv(filename, sep=',', header=0)\r\n",
    "    datasets[doc] = df"
   ],
   "outputs": [],
   "metadata": {}
  },
  {
   "cell_type": "code",
   "execution_count": 20,
   "source": [
    "#example of how to access a dataframe\r\n",
    "datasets['cpi'].head(3)"
   ],
   "outputs": [
    {
     "output_type": "execute_result",
     "data": {
      "text/html": [
       "<div>\n",
       "<style scoped>\n",
       "    .dataframe tbody tr th:only-of-type {\n",
       "        vertical-align: middle;\n",
       "    }\n",
       "\n",
       "    .dataframe tbody tr th {\n",
       "        vertical-align: top;\n",
       "    }\n",
       "\n",
       "    .dataframe thead th {\n",
       "        text-align: right;\n",
       "    }\n",
       "</style>\n",
       "<table border=\"1\" class=\"dataframe\">\n",
       "  <thead>\n",
       "    <tr style=\"text-align: right;\">\n",
       "      <th></th>\n",
       "      <th>Year</th>\n",
       "      <th>Jan</th>\n",
       "      <th>Feb</th>\n",
       "      <th>Mar</th>\n",
       "      <th>Apr</th>\n",
       "      <th>May</th>\n",
       "      <th>Jun</th>\n",
       "      <th>Jul</th>\n",
       "      <th>Aug</th>\n",
       "      <th>Sep</th>\n",
       "      <th>Oct</th>\n",
       "      <th>Nov</th>\n",
       "      <th>Dec</th>\n",
       "      <th>Annual</th>\n",
       "      <th>HALF1</th>\n",
       "      <th>HALF2</th>\n",
       "    </tr>\n",
       "  </thead>\n",
       "  <tbody>\n",
       "    <tr>\n",
       "      <th>0</th>\n",
       "      <td>1985</td>\n",
       "      <td>105.5</td>\n",
       "      <td>106.0</td>\n",
       "      <td>106.4</td>\n",
       "      <td>106.9</td>\n",
       "      <td>107.3</td>\n",
       "      <td>107.6</td>\n",
       "      <td>107.8</td>\n",
       "      <td>108.0</td>\n",
       "      <td>108.3</td>\n",
       "      <td>108.7</td>\n",
       "      <td>109.0</td>\n",
       "      <td>109.3</td>\n",
       "      <td>107.6</td>\n",
       "      <td>106.6</td>\n",
       "      <td>108.5</td>\n",
       "    </tr>\n",
       "    <tr>\n",
       "      <th>1</th>\n",
       "      <td>1986</td>\n",
       "      <td>109.6</td>\n",
       "      <td>109.3</td>\n",
       "      <td>108.8</td>\n",
       "      <td>108.6</td>\n",
       "      <td>108.9</td>\n",
       "      <td>109.5</td>\n",
       "      <td>109.5</td>\n",
       "      <td>109.7</td>\n",
       "      <td>110.2</td>\n",
       "      <td>110.3</td>\n",
       "      <td>110.4</td>\n",
       "      <td>110.5</td>\n",
       "      <td>109.6</td>\n",
       "      <td>109.1</td>\n",
       "      <td>110.1</td>\n",
       "    </tr>\n",
       "    <tr>\n",
       "      <th>2</th>\n",
       "      <td>1987</td>\n",
       "      <td>111.2</td>\n",
       "      <td>111.6</td>\n",
       "      <td>112.1</td>\n",
       "      <td>112.7</td>\n",
       "      <td>113.1</td>\n",
       "      <td>113.5</td>\n",
       "      <td>113.8</td>\n",
       "      <td>114.4</td>\n",
       "      <td>115.0</td>\n",
       "      <td>115.3</td>\n",
       "      <td>115.4</td>\n",
       "      <td>115.4</td>\n",
       "      <td>113.6</td>\n",
       "      <td>112.4</td>\n",
       "      <td>114.9</td>\n",
       "    </tr>\n",
       "  </tbody>\n",
       "</table>\n",
       "</div>"
      ],
      "text/plain": [
       "   Year    Jan    Feb    Mar    Apr    May    Jun    Jul    Aug    Sep    Oct  \\\n",
       "0  1985  105.5  106.0  106.4  106.9  107.3  107.6  107.8  108.0  108.3  108.7   \n",
       "1  1986  109.6  109.3  108.8  108.6  108.9  109.5  109.5  109.7  110.2  110.3   \n",
       "2  1987  111.2  111.6  112.1  112.7  113.1  113.5  113.8  114.4  115.0  115.3   \n",
       "\n",
       "     Nov    Dec  Annual  HALF1  HALF2  \n",
       "0  109.0  109.3   107.6  106.6  108.5  \n",
       "1  110.4  110.5   109.6  109.1  110.1  \n",
       "2  115.4  115.4   113.6  112.4  114.9  "
      ]
     },
     "metadata": {},
     "execution_count": 20
    }
   ],
   "metadata": {}
  },
  {
   "cell_type": "markdown",
   "source": [
    "## Data Cleaning"
   ],
   "metadata": {}
  },
  {
   "cell_type": "code",
   "execution_count": 4,
   "source": [
    "#the first year '1985-19862 is odd due to a footnote character from the webpage\r\n",
    "datasets['table']['year'].unique()"
   ],
   "outputs": [
    {
     "output_type": "execute_result",
     "data": {
      "text/plain": [
       "array(['1985–862', '1995–96', '2000–01', '2001–02', '2002–03', '2003–04',\n",
       "       '2004–05', '2005–06', '2006–07', '2007–08', '2008–09', '2009–10',\n",
       "       '2010–11', '2011–12', '2012–13', '2013–14', '2014–15', '2015–16',\n",
       "       '2016–17', '2017–18', '2018–19'], dtype=object)"
      ]
     },
     "metadata": {},
     "execution_count": 4
    }
   ],
   "metadata": {}
  },
  {
   "cell_type": "code",
   "execution_count": 5,
   "source": [
    "#the odd value is cleaned, and the character '–' is replaced with '-' so that\r\n",
    "#the year columns between historical_tuition and table match\r\n",
    "datasets['table'].loc[datasets['table']['year'] == '1985–862', 'year'] = '1985-86'\r\n",
    "datasets['table']['year'] = datasets['table']['year'].str.replace('–','-')\r\n",
    "datasets['table'].head(1)"
   ],
   "outputs": [
    {
     "output_type": "execute_result",
     "data": {
      "text/html": [
       "<div>\n",
       "<style scoped>\n",
       "    .dataframe tbody tr th:only-of-type {\n",
       "        vertical-align: middle;\n",
       "    }\n",
       "\n",
       "    .dataframe tbody tr th {\n",
       "        vertical-align: top;\n",
       "    }\n",
       "\n",
       "    .dataframe thead th {\n",
       "        text-align: right;\n",
       "    }\n",
       "</style>\n",
       "<table border=\"1\" class=\"dataframe\">\n",
       "  <thead>\n",
       "    <tr style=\"text-align: right;\">\n",
       "      <th></th>\n",
       "      <th>type</th>\n",
       "      <th>year</th>\n",
       "      <th>Constant_All</th>\n",
       "      <th>Constant_4-Year</th>\n",
       "      <th>Constant_2-Year</th>\n",
       "      <th>Contemporary_All</th>\n",
       "      <th>Contemporary_4-Year</th>\n",
       "      <th>Contemporary_2-Year</th>\n",
       "    </tr>\n",
       "  </thead>\n",
       "  <tbody>\n",
       "    <tr>\n",
       "      <th>0</th>\n",
       "      <td>All Institutions</td>\n",
       "      <td>1985-86</td>\n",
       "      <td>11369</td>\n",
       "      <td>12811</td>\n",
       "      <td>7836</td>\n",
       "      <td>4885</td>\n",
       "      <td>5504</td>\n",
       "      <td>3367</td>\n",
       "    </tr>\n",
       "  </tbody>\n",
       "</table>\n",
       "</div>"
      ],
      "text/plain": [
       "               type     year  Constant_All  Constant_4-Year  Constant_2-Year  \\\n",
       "0  All Institutions  1985-86         11369            12811             7836   \n",
       "\n",
       "   Contemporary_All  Contemporary_4-Year  Contemporary_2-Year  \n",
       "0              4885                 5504                 3367  "
      ]
     },
     "metadata": {},
     "execution_count": 5
    }
   ],
   "metadata": {}
  },
  {
   "cell_type": "code",
   "execution_count": null,
   "source": [],
   "outputs": [],
   "metadata": {}
  },
  {
   "cell_type": "code",
   "execution_count": 7,
   "source": [
    "#table is in a format where I'm having trouble directly grabbing the tuition values\r\n",
    "#I want, so instead I extract columns into seperate dataframes, and recombine them\r\n",
    "#so that the format better matches historical_tuition.\r\n",
    "\r\n",
    "const_all = datasets['table'][['type', 'year', 'Constant_All']]\r\n",
    "const_all = const_all.rename(columns = {'Constant_All': 'tuition_2'})\r\n",
    "const_all['tuition_type'] = 'All Constant'\r\n",
    "\r\n",
    "const_4 = datasets['table'][['type', 'year', 'Constant_4-Year']]\r\n",
    "const_4 = const_4.rename(columns = {'Constant_4-Year': 'tuition_2'})\r\n",
    "const_4['tuition_type'] = '4 Year Constant'\r\n",
    "\r\n",
    "const_2 = datasets['table'][['type', 'year', 'Constant_2-Year']]\r\n",
    "const_2 = const_2.rename(columns = {'Constant_2-Year': 'tuition_2'})\r\n",
    "const_2['tuition_type'] = '2 Year Constant'\r\n",
    "\r\n",
    "curr_all = datasets['table'][['type', 'year', 'Contemporary_All']]\r\n",
    "curr_all = curr_all.rename(columns = {'Contemporary_All': 'tuition_2'})\r\n",
    "curr_all['tuition_type'] = 'All Current'\r\n",
    "\r\n",
    "curr_4 = datasets['table'][['type', 'year', 'Contemporary_4-Year']]\r\n",
    "curr_4 = curr_4.rename(columns = {'Contemporary_4-Year': 'tuition_2'})\r\n",
    "curr_4['tuition_type'] = '4 Year Current'\r\n",
    "\r\n",
    "curr_2 = datasets['table'][['type', 'year', 'Contemporary_2-Year']]\r\n",
    "curr_2 = curr_2.rename(columns = {'Contemporary_2-Year': 'tuition_2'})\r\n",
    "curr_2['tuition_type'] = '2 Year Current'\r\n",
    "\r\n",
    "#The concats could be done in one step, but I want to check the shape\r\n",
    "#to make sure nothing's dissappearing\r\n",
    "const = pd.concat([const_all, const_2,const_4], ignore_index=True)\r\n",
    "curr = pd.concat([curr_all, curr_2, curr_4], ignore_index=True)\r\n",
    "print(const.shape)\r\n",
    "print(curr.shape)\r\n",
    "\r\n",
    "all_table_rows = pd.concat([const, curr], ignore_index=True)\r\n",
    "print(all_table_rows.shape)"
   ],
   "outputs": [
    {
     "output_type": "stream",
     "name": "stdout",
     "text": [
      "(186, 4)\n",
      "(186, 4)\n",
      "(372, 4)\n"
     ]
    }
   ],
   "metadata": {}
  },
  {
   "cell_type": "code",
   "execution_count": 8,
   "source": [
    "#merge dataframes and look for NAs\r\n",
    "hist_tuition = pd.merge(datasets['historical_tuition'], all_table_rows, how='left', on=['type','year','tuition_type'])\r\n",
    "hist_tuition.isnull().sum().sum()"
   ],
   "outputs": [
    {
     "output_type": "execute_result",
     "data": {
      "text/plain": [
       "0"
      ]
     },
     "metadata": {},
     "execution_count": 8
    }
   ],
   "metadata": {}
  },
  {
   "cell_type": "code",
   "execution_count": 10,
   "source": [
    "hist_tuition.head()"
   ],
   "outputs": [
    {
     "output_type": "execute_result",
     "data": {
      "text/html": [
       "<div>\n",
       "<style scoped>\n",
       "    .dataframe tbody tr th:only-of-type {\n",
       "        vertical-align: middle;\n",
       "    }\n",
       "\n",
       "    .dataframe tbody tr th {\n",
       "        vertical-align: top;\n",
       "    }\n",
       "\n",
       "    .dataframe thead th {\n",
       "        text-align: right;\n",
       "    }\n",
       "</style>\n",
       "<table border=\"1\" class=\"dataframe\">\n",
       "  <thead>\n",
       "    <tr style=\"text-align: right;\">\n",
       "      <th></th>\n",
       "      <th>type</th>\n",
       "      <th>year</th>\n",
       "      <th>tuition_type</th>\n",
       "      <th>tuition_cost</th>\n",
       "      <th>tuition_2</th>\n",
       "    </tr>\n",
       "  </thead>\n",
       "  <tbody>\n",
       "    <tr>\n",
       "      <th>0</th>\n",
       "      <td>All Institutions</td>\n",
       "      <td>1985-86</td>\n",
       "      <td>All Constant</td>\n",
       "      <td>10893</td>\n",
       "      <td>11369</td>\n",
       "    </tr>\n",
       "    <tr>\n",
       "      <th>1</th>\n",
       "      <td>All Institutions</td>\n",
       "      <td>1985-86</td>\n",
       "      <td>4 Year Constant</td>\n",
       "      <td>12274</td>\n",
       "      <td>12811</td>\n",
       "    </tr>\n",
       "    <tr>\n",
       "      <th>2</th>\n",
       "      <td>All Institutions</td>\n",
       "      <td>1985-86</td>\n",
       "      <td>2 Year Constant</td>\n",
       "      <td>7508</td>\n",
       "      <td>7836</td>\n",
       "    </tr>\n",
       "    <tr>\n",
       "      <th>3</th>\n",
       "      <td>All Institutions</td>\n",
       "      <td>1985-86</td>\n",
       "      <td>All Current</td>\n",
       "      <td>4885</td>\n",
       "      <td>4885</td>\n",
       "    </tr>\n",
       "    <tr>\n",
       "      <th>4</th>\n",
       "      <td>All Institutions</td>\n",
       "      <td>1985-86</td>\n",
       "      <td>4 Year Current</td>\n",
       "      <td>5504</td>\n",
       "      <td>5504</td>\n",
       "    </tr>\n",
       "  </tbody>\n",
       "</table>\n",
       "</div>"
      ],
      "text/plain": [
       "               type     year     tuition_type  tuition_cost  tuition_2\n",
       "0  All Institutions  1985-86     All Constant         10893      11369\n",
       "1  All Institutions  1985-86  4 Year Constant         12274      12811\n",
       "2  All Institutions  1985-86  2 Year Constant          7508       7836\n",
       "3  All Institutions  1985-86      All Current          4885       4885\n",
       "4  All Institutions  1985-86   4 Year Current          5504       5504"
      ]
     },
     "metadata": {},
     "execution_count": 10
    }
   ],
   "metadata": {}
  },
  {
   "cell_type": "code",
   "execution_count": 18,
   "source": [
    "#I make a third column with the average of the two tuition values\r\n",
    "hist_tuition['avg_tuition'] = ((hist_tuition['tuition_cost'] + hist_tuition['tuition_2'])/2).astype(int)\r\n",
    "hist_tuition.head(3)"
   ],
   "outputs": [
    {
     "output_type": "execute_result",
     "data": {
      "text/html": [
       "<div>\n",
       "<style scoped>\n",
       "    .dataframe tbody tr th:only-of-type {\n",
       "        vertical-align: middle;\n",
       "    }\n",
       "\n",
       "    .dataframe tbody tr th {\n",
       "        vertical-align: top;\n",
       "    }\n",
       "\n",
       "    .dataframe thead th {\n",
       "        text-align: right;\n",
       "    }\n",
       "</style>\n",
       "<table border=\"1\" class=\"dataframe\">\n",
       "  <thead>\n",
       "    <tr style=\"text-align: right;\">\n",
       "      <th></th>\n",
       "      <th>type</th>\n",
       "      <th>year</th>\n",
       "      <th>tuition_type</th>\n",
       "      <th>tuition_cost</th>\n",
       "      <th>tuition_2</th>\n",
       "      <th>avg_tuition</th>\n",
       "    </tr>\n",
       "  </thead>\n",
       "  <tbody>\n",
       "    <tr>\n",
       "      <th>0</th>\n",
       "      <td>All Institutions</td>\n",
       "      <td>1985-86</td>\n",
       "      <td>All Constant</td>\n",
       "      <td>10893</td>\n",
       "      <td>11369</td>\n",
       "      <td>11131</td>\n",
       "    </tr>\n",
       "    <tr>\n",
       "      <th>1</th>\n",
       "      <td>All Institutions</td>\n",
       "      <td>1985-86</td>\n",
       "      <td>4 Year Constant</td>\n",
       "      <td>12274</td>\n",
       "      <td>12811</td>\n",
       "      <td>12542</td>\n",
       "    </tr>\n",
       "    <tr>\n",
       "      <th>2</th>\n",
       "      <td>All Institutions</td>\n",
       "      <td>1985-86</td>\n",
       "      <td>2 Year Constant</td>\n",
       "      <td>7508</td>\n",
       "      <td>7836</td>\n",
       "      <td>7672</td>\n",
       "    </tr>\n",
       "  </tbody>\n",
       "</table>\n",
       "</div>"
      ],
      "text/plain": [
       "               type     year     tuition_type  tuition_cost  tuition_2  \\\n",
       "0  All Institutions  1985-86     All Constant         10893      11369   \n",
       "1  All Institutions  1985-86  4 Year Constant         12274      12811   \n",
       "2  All Institutions  1985-86  2 Year Constant          7508       7836   \n",
       "\n",
       "   avg_tuition  \n",
       "0        11131  \n",
       "1        12542  \n",
       "2         7672  "
      ]
     },
     "metadata": {},
     "execution_count": 18
    }
   ],
   "metadata": {}
  },
  {
   "cell_type": "code",
   "execution_count": null,
   "source": [],
   "outputs": [],
   "metadata": {}
  },
  {
   "cell_type": "markdown",
   "source": [
    "## Question 1 - How has Diversity Changed over Time"
   ],
   "metadata": {}
  },
  {
   "cell_type": "code",
   "execution_count": null,
   "source": [],
   "outputs": [],
   "metadata": {}
  },
  {
   "cell_type": "code",
   "execution_count": null,
   "source": [],
   "outputs": [],
   "metadata": {}
  },
  {
   "cell_type": "code",
   "execution_count": null,
   "source": [],
   "outputs": [],
   "metadata": {}
  },
  {
   "cell_type": "code",
   "execution_count": null,
   "source": [],
   "outputs": [],
   "metadata": {}
  },
  {
   "cell_type": "markdown",
   "source": [
    "## Question 2 - How has Rate of Tuition Changed with Rate of Inflation?"
   ],
   "metadata": {}
  },
  {
   "cell_type": "code",
   "execution_count": null,
   "source": [
    "#"
   ],
   "outputs": [],
   "metadata": {}
  },
  {
   "cell_type": "code",
   "execution_count": null,
   "source": [],
   "outputs": [],
   "metadata": {}
  }
 ],
 "metadata": {
  "kernelspec": {
   "name": "python3",
   "display_name": "Python 3.8.8 64-bit ('base': conda)"
  },
  "language_info": {
   "name": "python",
   "version": "3.8.11",
   "mimetype": "text/x-python",
   "codemirror_mode": {
    "name": "ipython",
    "version": 3
   },
   "pygments_lexer": "ipython3",
   "nbconvert_exporter": "python",
   "file_extension": ".py"
  },
  "interpreter": {
   "hash": "a8f61be024eba58adef938c9aa1e29e02cb3dece83a5348b1a2dafd16a070453"
  }
 },
 "nbformat": 4,
 "nbformat_minor": 5
}